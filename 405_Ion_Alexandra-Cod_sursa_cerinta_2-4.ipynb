{
  "nbformat": 4,
  "nbformat_minor": 0,
  "metadata": {
    "colab": {
      "provenance": []
    },
    "kernelspec": {
      "name": "python3",
      "display_name": "Python 3"
    },
    "language_info": {
      "name": "python"
    }
  },
  "cells": [
    {
      "cell_type": "markdown",
      "source": [
        "**Proiect Big Data - RealAgents**\n",
        "\n",
        "---\n",
        "\n",
        "Ion Alexandra - grupa 405\n",
        "\n",
        "\n"
      ],
      "metadata": {
        "id": "Y38diK13Yacv"
      }
    },
    {
      "cell_type": "markdown",
      "source": [
        ">[Introducere](#scrollTo=FaFlScXShUAA)\n",
        "\n",
        ">>[a. Prezentarea setului de date](#scrollTo=7accJXJ4iomd)\n",
        "\n",
        ">>[b. Obiectivele proiectului](#scrollTo=xNZTs13Bi6B0)\n",
        "\n",
        ">[Procesarea datelor](#scrollTo=sKFm4usBhtbW)\n",
        "\n",
        ">[Metode Machine Learning](#scrollTo=ZbK7GzM5rm-e)\n",
        "\n",
        ">>[a. Predicția prețului de vânzare](#scrollTo=eI13arWxiKFR)\n",
        "\n",
        ">>[b. Clasificarea caselor în \"scumpe\" sau \"ieftine\"](#scrollTo=QMIt8arqd9La)\n",
        "\n"
      ],
      "metadata": {
        "colab_type": "toc",
        "id": "mEc6JVARXu0E"
      }
    },
    {
      "cell_type": "markdown",
      "source": [
        "# 1. Introducere\n",
        "\n",
        "Proiectul a fost dezvoltat pe baza examenului final din platforma DataCamp, în vederea obținerii certificatul \"Data Scientist Associate\". Setul de date este stocat in fisierul \"house_sales.csv\".\n",
        "\n",
        "**Tema proiectului:**\n",
        "\n",
        "RealAgents este o companie imobiliară care vinde o varietate de tipuri de case într-o zonă metropolitană.\n",
        "\n",
        "Unele dintre aceste case se vând lent și uneori necesită scăderea prețului pentru a găsi un cumpărător. Pentru a rămâne competitiv, RealAgents ar dori să optimizeze prețurile de listare a caselor pe care încearcă să le vândă.\n",
        "\n",
        "\n"
      ],
      "metadata": {
        "id": "FaFlScXShUAA"
      }
    },
    {
      "cell_type": "markdown",
      "source": [
        "## a. Prezentarea setului de date\n",
        "\n",
        "Setul de date conține înregistrări ale caselor vândute în zonă. In tabelul de mai jos au fost detaliate informațiile privitoare la coloanele setului de date și criteriile prin care datele vor fi prelucrate.\n",
        "\n",
        "\n",
        "| Numele coloanei | Criterii |\n",
        "|--------------|---------------------------------------------------|\n",
        "|  house_id | Nominal. </br> Identificator unic pentru case. </br>Nu sunt posibile valori lipsă. |\n",
        "| city | Nominal. </br>Orașul în care se află casa. Unul dintre orasele „Silvertown”, „Riverford”, „Teasdale” și „Poppleton”. </br>Înlocuiți valorile lipsă cu „Unknown”. |\n",
        "| sale_price | Discret. </br>Prețul de vânzare al casei în dolari întregi. Valorile pot fi orice număr pozitiv mai mare sau egal cu zero.</br>Eliminați intrările lipsă. |\n",
        "| sale_date  | Discret. </br>Data ultimei vânzări a casei. </br>Înlocuiți valorile lipsă cu 2023-01-01. |\n",
        "| months_listed  | Continuu. </br>Numărul de luni în care casa a fost listată pe piață înainte de ultima sa vânzare, rotunjit la o zecimală. </br>Înlocuiți valorile lipsă cu numărul mediu de luni afișat, cu o zecimală. |\n",
        "| bedrooms | Discret. </br>Numărul de dormitoare din casă. Orice valori pozitive mai mari sau egale cu zero. </br>Înlocuiți valorile lipsă cu numărul mediu de dormitoare, rotunjit la cel mai apropiat număr întreg. |\n",
        "| house_type | Ordinal. </br>Unul dintre tipurile „Terraced” (doi pereți în comun), „Semi-detached” (un perete comun) sau „Detached” (fără pereți comun). </br>Înlocuiți valorile necorespunzatoare cu cel apropiat tip de casa. |\n",
        "| area | Continuu. </br>Suprafața casei în metri pătrați, rotunjită la o zecimală. </br>Înlocuiți valorile lipsă cu media, cu o zecimală. |\n",
        "\n",
        "Mai jos se pot vedea primele 20 de înregsitrări ale setului de date,cât și schema și sumarul acestora."
      ],
      "metadata": {
        "id": "7accJXJ4iomd"
      }
    },
    {
      "cell_type": "code",
      "source": [
        "import pandas as pd\n",
        "import pyspark\n",
        "from pyspark import SparkContext as sc\n",
        "from pyspark.sql import DataFrame, SparkSession\n",
        "from pyspark.sql.types import StructField, IntegerType, StringType, StructType\n",
        "from pyspark.sql.functions import col, count, when, round, regexp_replace\n",
        "\n",
        "spark = SparkSession.builder.appName(\"RealAgents\")\\\n",
        "    .config(\"spark.executor.memory\", \"2g\")\\\n",
        "    .config(\"spark.driver.memory\", \"2g\")\\\n",
        "    .getOrCreate()\n",
        "\n",
        "df = spark.read.csv('house_sales.csv',inferSchema=True,header=True)\n",
        "df.show()\n",
        "df.printSchema()\n",
        "df.summary().show()"
      ],
      "metadata": {
        "colab": {
          "base_uri": "https://localhost:8080/"
        },
        "id": "8j2coTO0sid0",
        "outputId": "7138ef85-f417-489e-a8c0-70ed9daa99c9"
      },
      "execution_count": 1,
      "outputs": [
        {
          "output_type": "stream",
          "name": "stdout",
          "text": [
            "+--------+----------+----------+----------+-------------+--------+-------------+-----------+\n",
            "|house_id|      city|sale_price| sale_date|months_listed|bedrooms|   house_type|       area|\n",
            "+--------+----------+----------+----------+-------------+--------+-------------+-----------+\n",
            "| 1217792|Silvertown|     55943|2021-09-12|          5.4|       2|Semi-detached|107.8 sq.m.|\n",
            "| 1900913|Silvertown|    384677|2021-01-17|          6.3|       5|     Detached|498.8 sq.m.|\n",
            "| 1174927| Riverford|    281707|2021-11-10|          6.9|       6|     Detached|542.5 sq.m.|\n",
            "| 1773666|Silvertown|    373251|2020-04-13|          6.1|       6|         Det.|528.4 sq.m.|\n",
            "| 1258487|Silvertown|    328885|2020-09-24|          8.7|       5|     Detached|477.1 sq.m.|\n",
            "| 1539789| Riverford|     47143|2020-09-25|          5.1|       2|Semi-detached|123.2 sq.m.|\n",
            "| 1353069|  Teasdale|    429914|2021-05-18|           NA|       6|     Detached|544.6 sq.m.|\n",
            "| 1155864|  Teasdale|    284440|2020-10-15|          5.8|       4|     Detached|371.3 sq.m.|\n",
            "| 1608726|  Teasdale|     87134|2021-01-07|          4.4|       2|Semi-detached|125.7 sq.m.|\n",
            "| 1358764| Poppleton|    211203|2020-05-04|            3|       4|     Detached|371.5 sq.m.|\n",
            "| 1277089|  Teasdale|    382655|2021-10-26|          4.6|       5|     Detached|428.8 sq.m.|\n",
            "| 1117876| Riverford|     54934|2020-06-11|          3.7|       2|Semi-detached|147.7 sq.m.|\n",
            "| 1710056|Silvertown|    297101|2022-10-10|          5.8|       4|     Detached|395.6 sq.m.|\n",
            "| 1860591| Poppleton|    171502|2021-08-04|          6.2|       4|     Detached|304.4 sq.m.|\n",
            "| 1470021| Riverford|    158198|2020-08-18|          5.3|       4|     Detached|316.8 sq.m.|\n",
            "| 1396614|  Teasdale|    428808|2021-07-18|          3.5|       6|     Detached|554.3 sq.m.|\n",
            "| 1369220|  Teasdale|    269688|2020-11-23|            5|       4|     Detached|374.9 sq.m.|\n",
            "| 1195530|Silvertown|    208965|2020-06-05|          4.6|       3|     Detached|294.3 sq.m.|\n",
            "| 1384054|Silvertown|    257146|2020-11-19|          5.5|       4|     Detached|397.0 sq.m.|\n",
            "| 1070852| Riverford|    160653|2020-02-25|          6.9|       4|     Detached|316.3 sq.m.|\n",
            "+--------+----------+----------+----------+-------------+--------+-------------+-----------+\n",
            "only showing top 20 rows\n",
            "\n",
            "root\n",
            " |-- house_id: integer (nullable = true)\n",
            " |-- city: string (nullable = true)\n",
            " |-- sale_price: integer (nullable = true)\n",
            " |-- sale_date: date (nullable = true)\n",
            " |-- months_listed: string (nullable = true)\n",
            " |-- bedrooms: integer (nullable = true)\n",
            " |-- house_type: string (nullable = true)\n",
            " |-- area: string (nullable = true)\n",
            "\n",
            "+-------+------------------+--------+------------------+-----------------+------------------+----------+-----------+\n",
            "|summary|          house_id|    city|        sale_price|    months_listed|          bedrooms|house_type|       area|\n",
            "+-------+------------------+--------+------------------+-----------------+------------------+----------+-----------+\n",
            "|  count|              1500|    1500|              1500|             1500|              1500|      1500|       1500|\n",
            "|   mean|1501070.9566666668|    NULL|          228121.5|5.901497617426818|             4.018|      NULL|       NULL|\n",
            "| stddev| 283558.4035021365|    NULL|117908.14730607926|1.954070143619828|1.4133911170065725|      NULL|       NULL|\n",
            "|    min|           1000296|      --|             26348|              0.5|                 2|      Det.|100.3 sq.m.|\n",
            "|    25%|           1258487|    NULL|            127143|              4.5|                 3|      NULL|       NULL|\n",
            "|    50%|           1509081|    NULL|            229931|              5.9|                 4|      NULL|       NULL|\n",
            "|    75%|           1734487|    NULL|            316761|              7.2|                 5|      NULL|       NULL|\n",
            "|    max|           1999721|Teasdale|            509536|               NA|                 6|  Terraced|600.0 sq.m.|\n",
            "+-------+------------------+--------+------------------+-----------------+------------------+----------+-----------+\n",
            "\n"
          ]
        }
      ]
    },
    {
      "cell_type": "markdown",
      "source": [
        "## b. Obiectivele proiectului\n",
        "\n",
        "Se doreste optimziarea prețurilor de listare ale caselor prin prezicerea în avans a acestora, având în vedere caracteristicile unei case, astfel reducând timpul pana la vanzarea ei.\n",
        "\n",
        "**Obiectivul 1:** Predicția prețului de vânzare al caselor.\n",
        "\n",
        "**Obiectivul 2:** Clasificarea caselor pentru a determina dacă acestea ieftine. Compania vrea să știe dacă preturile pe metru patrat ale caselor sunt prea mici."
      ],
      "metadata": {
        "id": "xNZTs13Bi6B0"
      }
    },
    {
      "cell_type": "markdown",
      "source": [
        "# 2. Procesarea datelor\n",
        "\n",
        "Pentru curățarea și transformarea datelor pe baza cerințelor din tabelul anterior se vor utiliza Dataframes si Spark SQL.\n",
        "\n",
        "- Dupa verificarea coloanei \"house_id\" s-a observat că toate valorile sunt unice, așadar se respectă descrierea și nu necesită curațare.\n",
        "\n"
      ],
      "metadata": {
        "id": "sKFm4usBhtbW"
      }
    },
    {
      "cell_type": "code",
      "source": [
        "df = df.dropna(subset=['house_id'])\n",
        "distinct_count = df.select('house_id').distinct().count()\n",
        "are_all_unique = (distinct_count == df.count())\n",
        "\n",
        "print('Valori unice:', are_all_unique,',',df.count())\n"
      ],
      "metadata": {
        "colab": {
          "base_uri": "https://localhost:8080/"
        },
        "id": "zAYZYJ4gxWGr",
        "outputId": "e5be111c-0f2f-4287-ea80-097e6772defe"
      },
      "execution_count": 2,
      "outputs": [
        {
          "output_type": "stream",
          "name": "stdout",
          "text": [
            "Valori unice: True , 1500\n"
          ]
        }
      ]
    },
    {
      "cell_type": "markdown",
      "source": [
        "- Toate câmpurile din coloana \"city\" care lipseau sau nu faceau parte din lista de orașe permise au fost inlocuite cu valoarea \"Unknown\". In urma curățării datelor am constatat că lipseau 73 de valori."
      ],
      "metadata": {
        "id": "RqZlszkXw0Ow"
      }
    },
    {
      "cell_type": "code",
      "source": [
        "#city\n",
        "allowed_values = ['Silvertown', 'Riverford', 'Teasdale', 'Poppleton']\n",
        "\n",
        "df= df.withColumn(\n",
        "    'city', when(col('city').isin(allowed_values), col('city')).otherwise('Unknown'))\n",
        "\n",
        "#df.groupby('city').count().filter((col('city') == 'Unknown')).show()\n",
        "df.createOrReplaceTempView(\"house_sales\")\n",
        "\n",
        "spark.sql(\"\"\"\n",
        "SELECT city, COUNT(*) as count\n",
        "FROM house_sales\n",
        "WHERE city NOT IN ('Silvertown', 'Riverford', 'Teasdale', 'Poppleton')\n",
        "GROUP BY city\"\"\").show()\n",
        "\n",
        "\n"
      ],
      "metadata": {
        "id": "aVcp0RlWx3Em",
        "colab": {
          "base_uri": "https://localhost:8080/"
        },
        "outputId": "e2a020ba-62e9-4530-e553-d285d13c1d8f"
      },
      "execution_count": 4,
      "outputs": [
        {
          "output_type": "stream",
          "name": "stdout",
          "text": [
            "+-------+-----+\n",
            "|   city|count|\n",
            "+-------+-----+\n",
            "|Unknown|   73|\n",
            "+-------+-----+\n",
            "\n"
          ]
        }
      ]
    },
    {
      "cell_type": "markdown",
      "source": [
        "- După verificarea coloanei \"sale_price\" s-a observat ca toate valorile respectă descrierea și nu necesita curatare. Nu au fost gasite valori nule, non-integer sau negative."
      ],
      "metadata": {
        "id": "vOpX6KfayQ2K"
      }
    },
    {
      "cell_type": "code",
      "source": [
        "#sale_price\n",
        "\n",
        "null_val = df.filter(col('sale_price').isNull()).count() > 0\n",
        "negative_values = df.filter(col('sale_price') < 0).count() > 0\n",
        "non_integer_values = df.select('sale_price').rdd.flatMap(lambda x: x).map(lambda x: str(x).isdigit()).filter(lambda x: x == False).count() > 0\n",
        "\n",
        "# Afișarea rezultatului\n",
        "print('Valori necorespunzătoare:', null_val and negative_values and non_integer_values)\n"
      ],
      "metadata": {
        "colab": {
          "base_uri": "https://localhost:8080/"
        },
        "id": "OIsrIe1Ex-7k",
        "outputId": "47340617-c5f6-4446-f6e0-73ec585cbe36"
      },
      "execution_count": 5,
      "outputs": [
        {
          "output_type": "stream",
          "name": "stdout",
          "text": [
            "Valori necorespunzătoare: False\n"
          ]
        }
      ]
    },
    {
      "cell_type": "markdown",
      "source": [
        "- Dupa verificarea coloanei \"sale_date\" s-a observat ca nu exista valori lipsa, asadar nu a fost inserata data '2023-01-01'."
      ],
      "metadata": {
        "id": "-LtI1Flj0BmF"
      }
    },
    {
      "cell_type": "code",
      "source": [
        "#sale_date\n",
        "\n",
        "missing_values = df.filter(col('sale_date').isNull()).count() > 0\n",
        "df = df.fillna('2023-01-01', subset=['sale_date'])\n",
        "\n",
        "print('Valori lipsă:', missing_values)\n",
        "\n",
        "spark.sql(\"\"\"\n",
        "SELECT sale_date, COUNT(*) as count\n",
        "FROM house_sales\n",
        "WHERE sale_date = '2023-01-01'\n",
        "GROUP BY sale_date\n",
        "\"\"\").show()\n",
        "\n"
      ],
      "metadata": {
        "colab": {
          "base_uri": "https://localhost:8080/"
        },
        "id": "hgYZfcQgzhRO",
        "outputId": "c7113f0d-c4e4-4029-dd30-c75d5d0f7431"
      },
      "execution_count": 6,
      "outputs": [
        {
          "output_type": "stream",
          "name": "stdout",
          "text": [
            "Valori lipsă: False\n",
            "+---------+-----+\n",
            "|sale_date|count|\n",
            "+---------+-----+\n",
            "+---------+-----+\n",
            "\n"
          ]
        }
      ]
    },
    {
      "cell_type": "markdown",
      "source": [
        "- Pentru coloana \"months_listed\" s-a facut media tuturor valorilor, rotunjita la o singura zecimala. Toate valorile lipsa au fost inlocuite cu media calculata anterior si au fost convertite la tipul float."
      ],
      "metadata": {
        "id": "Yv6JTyJW0Svd"
      }
    },
    {
      "cell_type": "code",
      "source": [
        "#months_listed\n",
        "\n",
        "mean_months_listed = df.selectExpr('ROUND(AVG(months_listed), 1) as mean_months_listed').collect()[0]['mean_months_listed']\n",
        "df = df.na.fill(mean_months_listed,subset=['months_listed'])\n",
        "df = df.withColumn('months_listed', col('months_listed').cast('float'))\n",
        "df.agg({'months_listed':'mean'}).show()\n",
        "\n",
        "\n",
        "\n"
      ],
      "metadata": {
        "colab": {
          "base_uri": "https://localhost:8080/"
        },
        "id": "68sY4d0W0MdH",
        "outputId": "ec6f1ac3-7dd9-4075-f931-698b02007733"
      },
      "execution_count": 12,
      "outputs": [
        {
          "output_type": "stream",
          "name": "stdout",
          "text": [
            "+------------------+\n",
            "|avg(months_listed)|\n",
            "+------------------+\n",
            "| 5.901466671824455|\n",
            "+------------------+\n",
            "\n"
          ]
        }
      ]
    },
    {
      "cell_type": "markdown",
      "source": [
        "- Pentru coloana \"bedrooms\" a fost calculata media tuturor valorilor si a fost rutunjita la cel mai apropiat numar intreg. Toate valorile lipsa au fost inlocuite cu aceasta medie."
      ],
      "metadata": {
        "id": "1jQy30vs1Cah"
      }
    },
    {
      "cell_type": "code",
      "source": [
        "#bedrooms\n",
        "from builtins import round\n",
        "mean_bedrooms = round(df.agg({'bedrooms': 'mean'}).collect()[0][0])\n",
        "print('Mean:', mean_bedrooms)\n",
        "df = df.fillna(mean_bedrooms, subset=['bedrooms'])"
      ],
      "metadata": {
        "id": "e3RlkI1F07N6",
        "colab": {
          "base_uri": "https://localhost:8080/"
        },
        "outputId": "189400e0-dbf0-49be-eb51-5c1473e6abbb"
      },
      "execution_count": 8,
      "outputs": [
        {
          "output_type": "stream",
          "name": "stdout",
          "text": [
            "Mean: 4\n"
          ]
        }
      ]
    },
    {
      "cell_type": "markdown",
      "source": [
        "- Dupa analizarea tuturor valorilor din coloana \"house_type\" s-a observat ca acestea au urmatoarele tipuri: 'Det.',Detached', 'Terr.', 'Terraced', 'Semi' si 'Semi-detached'. Fiecare valoare care nu se afla in lista valorilor acceptate a fost înlocuită cu cel mai apropiat tip de casa."
      ],
      "metadata": {
        "id": "OsNAryaC1kMK"
      }
    },
    {
      "cell_type": "code",
      "source": [
        "#house_type\n",
        "print(\"Valorile tipurilor de case inițiale:\")\n",
        "df.groupBy('house_type').count().show()\n",
        "\n",
        "# Înlocuirea valorilor specifice\n",
        "df = df.replace(['Det.', 'Terr.', 'Semi'], ['Detached', 'Terraced', 'Semi-detached'], 'house_type')\n",
        "\n",
        "# Afișarea valorilor după curățare\n",
        "print(\"Valorile tipurilor de case după curățare:\")\n",
        "df.groupBy('house_type').count().show()\n"
      ],
      "metadata": {
        "colab": {
          "base_uri": "https://localhost:8080/"
        },
        "id": "s1OukdcP095y",
        "outputId": "71231f95-fae7-4751-90ea-99ebc81b6b4e"
      },
      "execution_count": 9,
      "outputs": [
        {
          "output_type": "stream",
          "name": "stdout",
          "text": [
            "Valorile tipurilor de case inițiale:\n",
            "+-------------+-----+\n",
            "|   house_type|count|\n",
            "+-------------+-----+\n",
            "|Semi-detached|  231|\n",
            "|         Det.|   78|\n",
            "|     Terraced|  123|\n",
            "|     Detached| 1046|\n",
            "|         Semi|   14|\n",
            "|        Terr.|    8|\n",
            "+-------------+-----+\n",
            "\n",
            "Valorile tipurilor de case după curățare:\n",
            "+-------------+-----+\n",
            "|   house_type|count|\n",
            "+-------------+-----+\n",
            "|Semi-detached|  245|\n",
            "|     Terraced|  131|\n",
            "|     Detached| 1124|\n",
            "+-------------+-----+\n",
            "\n"
          ]
        }
      ]
    },
    {
      "cell_type": "markdown",
      "source": [
        "- Pentru coloana \"area\" s-a facut media tuturor valorilor, rotunjita la o singura zecimala. Toate valorile lipsa au fost inlocuite cu media calculata anterior. De asemenea, valorile numerice din aceasta coloana erau urmate de unitatea de masura 'sq.m.', la curatarea lor aceasta fiind eliminata."
      ],
      "metadata": {
        "id": "U4NW9iPx32CW"
      }
    },
    {
      "cell_type": "code",
      "source": [
        "#area\n",
        "print(\"Inainte de tranformare:\")\n",
        "spark.sql(\"SELECT area FROM house_sales LIMIT 10\").show()\n",
        "df = df.withColumn('area', regexp_replace(col('area'), ' sq.m.', '').cast('float'))\n",
        "\n",
        "mean_area = df.selectExpr('ROUND(AVG(area), 1) as mean_area').collect()[0]['mean_area']\n",
        "print('Mean:', mean_area)\n",
        "df = df.fillna(mean_area, subset=['area'])\n",
        "\n",
        "df.createOrReplaceTempView(\"clean_data\")\n",
        "print(\"După tranformare:\")\n",
        "spark.sql(\"SELECT area FROM clean_data LIMIT 10\").show()\n",
        "\n"
      ],
      "metadata": {
        "colab": {
          "base_uri": "https://localhost:8080/"
        },
        "id": "HU8pzzFStabX",
        "outputId": "17b84d7b-6d16-4763-85a7-67c55d2a2251"
      },
      "execution_count": 10,
      "outputs": [
        {
          "output_type": "stream",
          "name": "stdout",
          "text": [
            "Inainte de tranformare:\n",
            "+-----------+\n",
            "|       area|\n",
            "+-----------+\n",
            "|107.8 sq.m.|\n",
            "|498.8 sq.m.|\n",
            "|542.5 sq.m.|\n",
            "|528.4 sq.m.|\n",
            "|477.1 sq.m.|\n",
            "|123.2 sq.m.|\n",
            "|544.6 sq.m.|\n",
            "|371.3 sq.m.|\n",
            "|125.7 sq.m.|\n",
            "|371.5 sq.m.|\n",
            "+-----------+\n",
            "\n",
            "Mean: 352.1\n",
            "După tranformare:\n",
            "+-----+\n",
            "| area|\n",
            "+-----+\n",
            "|107.8|\n",
            "|498.8|\n",
            "|542.5|\n",
            "|528.4|\n",
            "|477.1|\n",
            "|123.2|\n",
            "|544.6|\n",
            "|371.3|\n",
            "|125.7|\n",
            "|371.5|\n",
            "+-----+\n",
            "\n"
          ]
        }
      ]
    },
    {
      "cell_type": "markdown",
      "source": [
        "Datele au fost curatate si transformate si se poate observa ca nu mai existe valori nule. De asemenea, toate tipurile numerice au fost convertite la tipul int, repectiv float pentru a putea fi utilizate in cadrul metodelor de invarare automata."
      ],
      "metadata": {
        "id": "0C7QD--n9vbf"
      }
    },
    {
      "cell_type": "code",
      "source": [
        "#df.write.option(\"header\", True).csv('clean_data.csv')\n",
        "df.printSchema()\n",
        "df.select([count(when(col(c).isNull(), c)).alias(c) for c in df.columns]).show()"
      ],
      "metadata": {
        "colab": {
          "base_uri": "https://localhost:8080/"
        },
        "id": "M2h8XV4E9twy",
        "outputId": "ec473149-78eb-4c49-ea97-b2f0e74adf03"
      },
      "execution_count": 13,
      "outputs": [
        {
          "output_type": "stream",
          "name": "stdout",
          "text": [
            "root\n",
            " |-- house_id: integer (nullable = true)\n",
            " |-- city: string (nullable = true)\n",
            " |-- sale_price: integer (nullable = true)\n",
            " |-- sale_date: date (nullable = true)\n",
            " |-- months_listed: float (nullable = false)\n",
            " |-- bedrooms: integer (nullable = true)\n",
            " |-- house_type: string (nullable = true)\n",
            " |-- area: float (nullable = false)\n",
            "\n",
            "+--------+----+----------+---------+-------------+--------+----------+----+\n",
            "|house_id|city|sale_price|sale_date|months_listed|bedrooms|house_type|area|\n",
            "+--------+----+----------+---------+-------------+--------+----------+----+\n",
            "|       0|   0|         0|        0|            0|       0|         0|   0|\n",
            "+--------+----+----------+---------+-------------+--------+----------+----+\n",
            "\n"
          ]
        }
      ]
    },
    {
      "cell_type": "markdown",
      "source": [
        "# 3. Metode Machine Learning\n",
        "\n",
        "Se va utiliza Spark MLlib pentru atingerea obiectivelor si prezicerea apretului de vanzare al unei case."
      ],
      "metadata": {
        "id": "ZbK7GzM5rm-e"
      }
    },
    {
      "cell_type": "markdown",
      "source": [
        "## a. Predicția prețului de vânzare\n",
        "\n",
        "Pentru indeplinirea acestui obiectiv se va utiliza o regresie liniară, deoarece este potrivită pentru problemele de predicție bazate pe date existente."
      ],
      "metadata": {
        "id": "eI13arWxiKFR"
      }
    },
    {
      "cell_type": "code",
      "source": [
        "\n",
        "from pyspark.ml.feature import VectorAssembler\n",
        "from pyspark.ml.regression import LinearRegression\n",
        "from pyspark.ml.classification import LogisticRegression\n",
        "from pyspark.ml.evaluation import RegressionEvaluator, BinaryClassificationEvaluator\n",
        "\n",
        "if 'features' in df.columns:\n",
        "    df = df.drop('features')\n",
        "\n",
        "# s-a obtinut vectorului de caracteristici pe baza coloanelor 'months_listed', 'bedrooms' si 'area'\n",
        "assembler = VectorAssembler(inputCols=['months_listed', 'bedrooms', 'area'], outputCol='features')\n",
        "output = assembler.transform(df)\n",
        "\n",
        "#afisarea coloanei obtinute\n",
        "output.select(\"features\").show(truncate=False)\n"
      ],
      "metadata": {
        "colab": {
          "base_uri": "https://localhost:8080/"
        },
        "id": "KPUsPXMtenkr",
        "outputId": "0480f881-f69b-4637-eb83-5ead2ef10eef"
      },
      "execution_count": 18,
      "outputs": [
        {
          "output_type": "stream",
          "name": "stdout",
          "text": [
            "+------------------------------------------+\n",
            "|features                                  |\n",
            "+------------------------------------------+\n",
            "|[5.400000095367432,2.0,107.80000305175781]|\n",
            "|[6.300000190734863,5.0,498.79998779296875]|\n",
            "|[6.900000095367432,6.0,542.5]             |\n",
            "|[6.099999904632568,6.0,528.4000244140625] |\n",
            "|[8.699999809265137,5.0,477.1000061035156] |\n",
            "|[5.099999904632568,2.0,123.19999694824219]|\n",
            "|[5.900000095367432,6.0,544.5999755859375] |\n",
            "|[5.800000190734863,4.0,371.29998779296875]|\n",
            "|[4.400000095367432,2.0,125.69999694824219]|\n",
            "|[3.0,4.0,371.5]                           |\n",
            "|[4.599999904632568,5.0,428.79998779296875]|\n",
            "|[3.700000047683716,2.0,147.6999969482422] |\n",
            "|[5.800000190734863,4.0,395.6000061035156] |\n",
            "|[6.199999809265137,4.0,304.3999938964844] |\n",
            "|[5.300000190734863,4.0,316.79998779296875]|\n",
            "|[3.5,6.0,554.2999877929688]               |\n",
            "|[5.0,4.0,374.8999938964844]               |\n",
            "|[4.599999904632568,3.0,294.29998779296875]|\n",
            "|[5.5,4.0,397.0]                           |\n",
            "|[6.900000095367432,4.0,316.29998779296875]|\n",
            "+------------------------------------------+\n",
            "only showing top 20 rows\n",
            "\n"
          ]
        }
      ]
    },
    {
      "cell_type": "code",
      "source": [
        "# s-a creat o diviziune train-test cu procentele 70%-30%\n",
        "train_data, test_data =output.randomSplit([0.7, 0.3])\n",
        "train_data.summary().show()\n",
        "test_data.summary().show()\n",
        "\n"
      ],
      "metadata": {
        "colab": {
          "base_uri": "https://localhost:8080/"
        },
        "id": "982lI8M4vxgB",
        "outputId": "0827812f-a298-4fc3-8408-3aa18a53f89b"
      },
      "execution_count": 19,
      "outputs": [
        {
          "output_type": "stream",
          "name": "stdout",
          "text": [
            "+-------+------------------+---------+------------------+------------------+------------------+----------+------------------+\n",
            "|summary|          house_id|     city|        sale_price|     months_listed|          bedrooms|house_type|              area|\n",
            "+-------+------------------+---------+------------------+------------------+------------------+----------+------------------+\n",
            "|  count|              1035|     1035|              1035|              1035|              1035|      1035|              1035|\n",
            "|   mean|1498899.9777777777|     NULL| 227546.2193236715| 5.854879234551231|4.0028985507246375|      NULL|350.58560352417584|\n",
            "| stddev| 287454.2389989814|     NULL|118080.83710000177|1.9295730881851567|1.4124999116234962|      NULL|146.37819390077433|\n",
            "|    min|           1000296|Poppleton|             26348|               0.6|                 2|  Detached|             100.3|\n",
            "|    25%|           1245874|     NULL|            128097|               4.5|                 3|      NULL|             226.4|\n",
            "|    50%|           1509334|     NULL|            227392|               5.9|                 4|      NULL|             345.5|\n",
            "|    75%|           1731309|     NULL|            314469|               7.1|                 5|      NULL|             476.8|\n",
            "|    max|           1999721|  Unknown|            504513|              12.3|                 6|  Terraced|             600.0|\n",
            "+-------+------------------+---------+------------------+------------------+------------------+----------+------------------+\n",
            "\n",
            "+-------+-----------------+---------+------------------+-----------------+------------------+----------+-----------------+\n",
            "|summary|         house_id|     city|        sale_price|    months_listed|          bedrooms|house_type|             area|\n",
            "+-------+-----------------+---------+------------------+-----------------+------------------+----------+-----------------+\n",
            "|  count|              465|      465|               465|              465|               465|       465|              465|\n",
            "|   mean|1505903.135483871|     NULL| 229401.9634408602|6.005161290271308| 4.051612903225807|      NULL|355.5479560605941|\n",
            "| stddev|274931.6279715343|     NULL|117639.68753265621|1.941109037820461|1.4163160158416979|      NULL|145.5242149812351|\n",
            "|    min|          1005837|Poppleton|             26513|              0.5|                 2|  Detached|            101.0|\n",
            "|    25%|          1289493|     NULL|            124509|              4.6|                 3|      NULL|            230.0|\n",
            "|    50%|          1506579|     NULL|            237130|              5.9|                 4|      NULL|            361.1|\n",
            "|    75%|          1738515|     NULL|            324808|              7.3|                 5|      NULL|            482.1|\n",
            "|    max|          1997518|  Unknown|            509536|             11.8|                 6|  Terraced|            599.6|\n",
            "+-------+-----------------+---------+------------------+-----------------+------------------+----------+-----------------+\n",
            "\n"
          ]
        }
      ]
    },
    {
      "cell_type": "code",
      "source": [
        "# crearea si antrenarea modelului de regresie liniară\n",
        "lr = LinearRegression(labelCol='sale_price', featuresCol='features',predictionCol='prediction')\n",
        "lr_model = lr.fit(train_data)\n",
        "predictions = lr_model.transform(test_data)\n",
        "\n",
        "# coeficienții și intercepția pentru regresia liniară\n",
        "\n",
        "print(\"Coefficients: {}\".format(str(lr_model.coefficients)))\n",
        "print('\\n')\n",
        "print(\"Intercept:{}\".format(str(lr_model.intercept)))\n",
        "\n",
        "#evaluarea modelul pe datele de test\n",
        "test_results=lr_model.evaluate(test_data)\n",
        "test_results.residuals.show()\n",
        "print(\"RMSE: {}\".format(test_results.rootMeanSquaredError))\n",
        "\n",
        "# Sumarizarea modelului pentru setul de training și afișarea unor metrici\n",
        "trainingSummary = lr_model.summary\n",
        "trainingSummary.residuals.show()\n",
        "print(\"RMSE: {}\".format(trainingSummary.rootMeanSquaredError))\n",
        "print(\"r2: {}\".format(trainingSummary.r2))\n",
        "\n",
        "\n",
        "\n"
      ],
      "metadata": {
        "colab": {
          "base_uri": "https://localhost:8080/"
        },
        "id": "qhLUFSkUwWRt",
        "outputId": "3f9dab33-1f20-4632-c1cb-d5128b075c5b"
      },
      "execution_count": 20,
      "outputs": [
        {
          "output_type": "stream",
          "name": "stdout",
          "text": [
            "Coefficients: [-457.75243950221795,-4362.826532683838,795.4135339408286]\n",
            "\n",
            "\n",
            "Intercept:-31170.277266921592\n",
            "+-------------------+\n",
            "|          residuals|\n",
            "+-------------------+\n",
            "|-26989.462367805478|\n",
            "|  50642.34339688916|\n",
            "|  28357.08715322576|\n",
            "|  -86665.5188716785|\n",
            "|  25508.07220620726|\n",
            "|-29751.909303251654|\n",
            "|-30776.009159311594|\n",
            "| 15802.772014502407|\n",
            "| -46382.92675871967|\n",
            "|  21884.53478070663|\n",
            "|-3286.1023053935496|\n",
            "|  37908.96885499076|\n",
            "|  8111.687222196357|\n",
            "|-2558.4137548044673|\n",
            "|  36131.16042684775|\n",
            "|-30159.096147269825|\n",
            "|  16822.15270712183|\n",
            "|  7144.544802900913|\n",
            "| -50439.99596027442|\n",
            "|  40564.83318800866|\n",
            "+-------------------+\n",
            "only showing top 20 rows\n",
            "\n",
            "RMSE: 40366.68695257054\n",
            "+-------------------+\n",
            "|          residuals|\n",
            "+-------------------+\n",
            "|  6102.219937545073|\n",
            "|-46962.468089436006|\n",
            "| 13412.272032380977|\n",
            "|  48611.99551800551|\n",
            "|  48233.47621036548|\n",
            "| -34898.47842202976|\n",
            "| -67443.72883518884|\n",
            "| 19541.898972549185|\n",
            "|-11851.719491028707|\n",
            "|  28237.57652307584|\n",
            "| -2975.136561735533|\n",
            "| -77094.30841422628|\n",
            "| 16398.068537036976|\n",
            "| -64615.43637428942|\n",
            "|-16131.121592076583|\n",
            "| 11879.919295233645|\n",
            "|  21802.67421374272|\n",
            "|  49429.59762137028|\n",
            "| 20080.326728260727|\n",
            "|  45718.27355255786|\n",
            "+-------------------+\n",
            "only showing top 20 rows\n",
            "\n",
            "RMSE: 41801.59843240252\n",
            "r2: 0.8745569103179982\n"
          ]
        }
      ]
    },
    {
      "cell_type": "code",
      "source": [
        "# s-a aplicat modelul obtinut anterior pe datele de test neetichetate\n",
        "unlabled_data=test_data.select('features')\n",
        "predictions=lr_model.transform(unlabled_data)\n",
        "\n",
        "#predicțiile obținute\n",
        "predictions.show(),test_data.select(\"features\",\"sale_price\").show()\n",
        "#Afișați alte informații disponibile în test_results\n",
        "print(\"RMSE: {}\".format(test_results.rootMeanSquaredError))\n",
        "print(\"MSE: {}\".format(test_results.meanSquaredError))\n",
        "print(f\"R2: {test_results.r2}\")"
      ],
      "metadata": {
        "colab": {
          "base_uri": "https://localhost:8080/"
        },
        "id": "bXUElWyryJcl",
        "outputId": "f9c7b675-97ff-46a9-a371-3f328a31cfa7"
      },
      "execution_count": 21,
      "outputs": [
        {
          "output_type": "stream",
          "name": "stdout",
          "text": [
            "+--------------------+------------------+\n",
            "|            features|        prediction|\n",
            "+--------------------+------------------+\n",
            "|[5.90000009536743...| 306148.4623678055|\n",
            "|[7.0,6.0,537.2000...|366744.65660311084|\n",
            "|[6.19999980926513...|219855.91284677424|\n",
            "|[6.09999990463256...| 383303.5188716785|\n",
            "|[7.19999980926513...|190126.92779379274|\n",
            "|[4.69999980926513...|390784.90930325165|\n",
            "|[8.19999980926513...| 119979.0091593116|\n",
            "|[8.19999980926513...| 186885.2279854976|\n",
            "|[6.40000009536743...|392233.92675871967|\n",
            "|[8.80000019073486...|177610.46521929337|\n",
            "|[5.80000019073486...|405076.10230539355|\n",
            "|[4.90000009536743...|219576.03114500924|\n",
            "|[5.90000009536743...| 45853.31277780364|\n",
            "|[9.39999961853027...| 48546.41375480447|\n",
            "|[2.29999995231628...|318295.83957315225|\n",
            "|[7.69999980926513...|160058.09614726983|\n",
            "|[6.19999980926513...|121530.84729287817|\n",
            "|[5.0,2.0,140.6000...| 69650.45519709909|\n",
            "|[3.40000009536743...|227659.99596027442|\n",
            "|[9.10000038146972...|182325.16681199134|\n",
            "+--------------------+------------------+\n",
            "only showing top 20 rows\n",
            "\n",
            "+--------------------+----------+\n",
            "|            features|sale_price|\n",
            "+--------------------+----------+\n",
            "|[5.90000009536743...|    279159|\n",
            "|[7.0,6.0,537.2000...|    417387|\n",
            "|[6.19999980926513...|    248213|\n",
            "|[6.09999990463256...|    296638|\n",
            "|[7.19999980926513...|    215635|\n",
            "|[4.69999980926513...|    361033|\n",
            "|[8.19999980926513...|     89203|\n",
            "|[8.19999980926513...|    202688|\n",
            "|[6.40000009536743...|    345851|\n",
            "|[8.80000019073486...|    199495|\n",
            "|[5.80000019073486...|    401790|\n",
            "|[4.90000009536743...|    257485|\n",
            "|[5.90000009536743...|     53965|\n",
            "|[9.39999961853027...|     45988|\n",
            "|[2.29999995231628...|    354427|\n",
            "|[7.69999980926513...|    129899|\n",
            "|[6.19999980926513...|    138353|\n",
            "|[5.0,2.0,140.6000...|     76795|\n",
            "|[3.40000009536743...|    177220|\n",
            "|[9.10000038146972...|    222890|\n",
            "+--------------------+----------+\n",
            "only showing top 20 rows\n",
            "\n",
            "RMSE: 40366.68695257054\n",
            "MSE: 1629469415.526829\n",
            "R2: 0.8820023220236114\n"
          ]
        }
      ]
    },
    {
      "cell_type": "markdown",
      "source": [
        "## b. Clasificarea prețului caselor\n",
        "\n",
        " Pentru indeplinirea acestui obiectiv se va utiliza metoda regresiei logistice, deoarece este potrivită pentru probleme de clasificare binară. Pentru rezolvarea acestei metode se va utiliza un Pipeline.\n",
        "\n",
        " Dorim sa clasificăm casele astfel încât să stabilim dacă o casă este ieftina. Astfel vom definii o casă ca fiind ieftină dacă prețul pe metru pătrat al acesteia este sub prețul mediu pe metru pătrat al tuturor caselor.\n",
        "\n",
        " Se va calcula media pe metru patrat si se va adauga o noua coloana cu valorile 1 sau 0, unde valoarea 1 inseamna ca o casa este ieftina."
      ],
      "metadata": {
        "id": "QMIt8arqd9La"
      }
    },
    {
      "cell_type": "code",
      "source": [
        "from pyspark.sql.functions import mean, when\n",
        "\n",
        "# copierea datelor initiale\n",
        "original_df = df.select(\"*\")\n",
        "\n",
        "#calcularea mediei\n",
        "average_price_per_sqft = df.selectExpr('ROUND(AVG(sale_price/area), 1) as average_price_per_sqft').collect()[0]['average_price_per_sqft']\n",
        "print(\"Media pretului/metru:\",average_price_per_sqft)\n",
        "\n",
        "# Adăugarea coloanei cu eticheta\n",
        "df = df.withColumn('cheap', when(col('sale_price')/col('area') < average_price_per_sqft, 1).otherwise(0))\n",
        "df.show()"
      ],
      "metadata": {
        "colab": {
          "base_uri": "https://localhost:8080/"
        },
        "id": "XyTxbYEZpvUP",
        "outputId": "632c2079-35da-4e30-b968-3b0a0d0f2616"
      },
      "execution_count": 21,
      "outputs": [
        {
          "output_type": "stream",
          "name": "stdout",
          "text": [
            "Media pretului/metru: 617.0\n",
            "+--------+----------+----------+----------+-------------+--------+-------------+-----+-----+\n",
            "|house_id|      city|sale_price| sale_date|months_listed|bedrooms|   house_type| area|cheap|\n",
            "+--------+----------+----------+----------+-------------+--------+-------------+-----+-----+\n",
            "| 1217792|Silvertown|     55943|2021-09-12|          5.4|       2|Semi-detached|107.8|    1|\n",
            "| 1900913|Silvertown|    384677|2021-01-17|          6.3|       5|     Detached|498.8|    0|\n",
            "| 1174927| Riverford|    281707|2021-11-10|          6.9|       6|     Detached|542.5|    1|\n",
            "| 1773666|Silvertown|    373251|2020-04-13|          6.1|       6|     Detached|528.4|    0|\n",
            "| 1258487|Silvertown|    328885|2020-09-24|          8.7|       5|     Detached|477.1|    0|\n",
            "| 1539789| Riverford|     47143|2020-09-25|          5.1|       2|Semi-detached|123.2|    1|\n",
            "| 1353069|  Teasdale|    429914|2021-05-18|          5.9|       6|     Detached|544.6|    0|\n",
            "| 1155864|  Teasdale|    284440|2020-10-15|          5.8|       4|     Detached|371.3|    0|\n",
            "| 1608726|  Teasdale|     87134|2021-01-07|          4.4|       2|Semi-detached|125.7|    0|\n",
            "| 1358764| Poppleton|    211203|2020-05-04|          3.0|       4|     Detached|371.5|    1|\n",
            "| 1277089|  Teasdale|    382655|2021-10-26|          4.6|       5|     Detached|428.8|    0|\n",
            "| 1117876| Riverford|     54934|2020-06-11|          3.7|       2|Semi-detached|147.7|    1|\n",
            "| 1710056|Silvertown|    297101|2022-10-10|          5.8|       4|     Detached|395.6|    0|\n",
            "| 1860591| Poppleton|    171502|2021-08-04|          6.2|       4|     Detached|304.4|    1|\n",
            "| 1470021| Riverford|    158198|2020-08-18|          5.3|       4|     Detached|316.8|    1|\n",
            "| 1396614|  Teasdale|    428808|2021-07-18|          3.5|       6|     Detached|554.3|    0|\n",
            "| 1369220|  Teasdale|    269688|2020-11-23|          5.0|       4|     Detached|374.9|    0|\n",
            "| 1195530|Silvertown|    208965|2020-06-05|          4.6|       3|     Detached|294.3|    0|\n",
            "| 1384054|Silvertown|    257146|2020-11-19|          5.5|       4|     Detached|397.0|    0|\n",
            "| 1070852| Riverford|    160653|2020-02-25|          6.9|       4|     Detached|316.3|    1|\n",
            "+--------+----------+----------+----------+-------------+--------+-------------+-----+-----+\n",
            "only showing top 20 rows\n",
            "\n"
          ]
        }
      ]
    },
    {
      "cell_type": "code",
      "source": [
        "from pyspark.ml.feature import (VectorAssembler, OneHotEncoder, StringIndexer)\n",
        "from pyspark.ml.classification import LogisticRegression\n",
        "from pyspark.ml import Pipeline\n",
        "from pyspark.ml.evaluation import BinaryClassificationEvaluator\n",
        "from pyspark.sql.functions import col\n",
        "\n",
        "if 'encoded_features' in df.columns:\n",
        "    df = df.drop('encoded_features')\n",
        "\n",
        "#afisarea coloanelor\n",
        "print(df.columns)\n",
        "\n",
        "\n",
        "# transformaea coloanelor categoricale\n",
        "house_type_indexer = StringIndexer(inputCol='house_type', outputCol='house_type_index')\n",
        "house_type_encoder = OneHotEncoder(inputCol='house_type_index', outputCol='house_type_vec')\n",
        "\n",
        "\n",
        "# Asamblarea coloanelor și crearea modelului\n",
        "assembler = VectorAssembler(inputCols=['house_type_vec','sale_price','area'], outputCol='encoded_features')\n",
        "log_reg = LogisticRegression(featuresCol='encoded_features', labelCol='cheap')\n",
        "\n",
        "# Inlantuirea index-urilor și encodere-lor create anterior împreună cu variabila assembler și regresia, ca etape în cadrul unui Pipeline\n",
        "pipeline = Pipeline(stages=[house_type_indexer, house_type_encoder,\n",
        "                            assembler, log_reg])\n",
        "\n",
        "# Obținerea datelor de train și test printr-o diviziune cu procentele 70%-30%\n",
        "train_lr_data, test_lr_data = df.randomSplit([0.7, 0.3])\n",
        "\n",
        "# Antrenarea pipeline-ului\n",
        "fit_lr_model = pipeline.fit(train_lr_data)\n",
        "\n",
        "# Aplicare model pe datele de test\n",
        "lr_results = fit_lr_model.transform(test_lr_data)\n",
        "\n",
        "lr_results.show()\n"
      ],
      "metadata": {
        "colab": {
          "base_uri": "https://localhost:8080/"
        },
        "id": "K7Cn3LSM_Nj9",
        "outputId": "8621b965-1889-43d5-a016-eff9ea01ac20"
      },
      "execution_count": 16,
      "outputs": [
        {
          "output_type": "stream",
          "name": "stdout",
          "text": [
            "['house_id', 'city', 'sale_price', 'sale_date', 'months_listed', 'bedrooms', 'house_type', 'area', 'cheap']\n",
            "+--------+----------+----------+----------+-------------+--------+-------------+-----+-----+----------------+--------------+--------------------+--------------------+--------------------+----------+\n",
            "|house_id|      city|sale_price| sale_date|months_listed|bedrooms|   house_type| area|cheap|house_type_index|house_type_vec|    encoded_features|       rawPrediction|         probability|prediction|\n",
            "+--------+----------+----------+----------+-------------+--------+-------------+-----+-----+----------------+--------------+--------------------+--------------------+--------------------+----------+\n",
            "| 1001618| Poppleton|    282662|2020-08-15|          2.4|       5|     Detached|482.4|    1|             0.0| (2,[0],[1.0])|[1.0,0.0,282662.0...|[-4112.7657214778...|           [0.0,1.0]|       1.0|\n",
            "| 1005837| Poppleton|    279159|2021-05-17|          5.9|       5|     Detached|454.9|    1|             0.0| (2,[0],[1.0])|[1.0,0.0,279159.0...|[-452.64601449683...|[2.62019521095519...|       1.0|\n",
            "| 1006587|  Teasdale|    254229|2020-09-07|          1.9|       4|     Detached|321.2|    0|             0.0| (2,[0],[1.0])|[1.0,0.0,254229.0...|[15193.4775978174...|           [1.0,0.0]|       0.0|\n",
            "| 1010355| Poppleton|     61207|2020-06-27|          5.2|       2|Semi-detached|145.0|    1|             1.0| (2,[1],[1.0])|[0.0,1.0,61207.0,...|[-7690.0066238630...|           [0.0,1.0]|       1.0|\n",
            "| 1011982|  Teasdale|    215635|2020-01-10|          7.2|       4|     Detached|304.3|    0|             0.0| (2,[0],[1.0])|[1.0,0.0,215635.0...|[7529.99728122253...|           [1.0,0.0]|       0.0|\n",
            "| 1014739|   Unknown|    202688|2021-08-26|          8.2|       4|     Detached|300.8|    0|             0.0| (2,[0],[1.0])|[1.0,0.0,202688.0...|[4595.24829736618...|           [1.0,0.0]|       0.0|\n",
            "| 1018165| Poppleton|     89000|2021-08-21|          6.9|       2|Semi-detached|186.3|    1|             1.0| (2,[1],[1.0])|[0.0,1.0,89000.0,...|[-7057.6226075986...|           [0.0,1.0]|       1.0|\n",
            "| 1018876| Poppleton|    345851|2021-12-28|          6.4|       6|     Detached|568.9|    1|             0.0| (2,[0],[1.0])|[1.0,0.0,345851.0...|[-1434.0327944040...|           [0.0,1.0]|       1.0|\n",
            "| 1023229|  Teasdale|    462622|2022-06-11|          6.2|       6|     Detached|599.8|    0|             0.0| (2,[0],[1.0])|[1.0,0.0,462622.0...|[25146.8229737153...|           [1.0,0.0]|       0.0|\n",
            "| 1024283|  Teasdale|    358561|2021-12-01|          6.8|       5|     Detached|424.2|    0|             0.0| (2,[0],[1.0])|[1.0,0.0,358561.0...|[26296.1806020729...|           [1.0,0.0]|       0.0|\n",
            "| 1027136| Riverford|    196924|2020-05-16|          7.0|       5|     Detached|400.2|    1|             0.0| (2,[0],[1.0])|[1.0,0.0,196924.0...|[-13646.621494132...|           [0.0,1.0]|       1.0|\n",
            "| 1028100|Silvertown|    401790|2021-01-02|          5.8|       6|     Detached|584.7|    0|             0.0| (2,[0],[1.0])|[1.0,0.0,401790.0...|[11132.1829911922...|           [1.0,0.0]|       0.0|\n",
            "| 1028805| Riverford|    245261|2022-08-06|          6.5|       6|     Detached|552.9|    1|             0.0| (2,[0],[1.0])|[1.0,0.0,245261.0...|[-26112.719066281...|           [0.0,1.0]|       1.0|\n",
            "| 1029841| Poppleton|     99687|2020-04-12|          6.3|       3|Semi-detached|232.9|    1|             1.0| (2,[1],[1.0])|[0.0,1.0,99687.0,...|[-11967.485255229...|           [0.0,1.0]|       1.0|\n",
            "| 1030063| Riverford|    149446|2020-07-31|          3.4|       4|     Detached|326.9|    1|             0.0| (2,[0],[1.0])|[1.0,0.0,149446.0...|[-14265.875208172...|           [0.0,1.0]|       1.0|\n",
            "| 1032875|Silvertown|    354427|2021-05-14|          2.3|       5|     Detached|468.1|    0|             0.0| (2,[0],[1.0])|[1.0,0.0,354427.0...|[17807.6039390857...|           [1.0,0.0]|       0.0|\n",
            "| 1034402| Riverford|    129899|2021-06-29|          7.7|       3|     Detached|261.3|    1|             0.0| (2,[0],[1.0])|[1.0,0.0,129899.0...|[-8578.9477546142...|           [0.0,1.0]|       1.0|\n",
            "| 1034795|Silvertown|    247106|2022-01-04|          4.6|       4|     Detached|383.0|    0|             0.0| (2,[0],[1.0])|[1.0,0.0,247106.0...|[2889.18009998405...|           [1.0,0.0]|       0.0|\n",
            "| 1036836| Riverford|    211025|2020-04-10|          4.4|       5|     Detached|408.3|    1|             0.0| (2,[0],[1.0])|[1.0,0.0,211025.0...|[-11169.586669422...|           [0.0,1.0]|       1.0|\n",
            "| 1040638| Riverford|    177220|2020-02-28|          3.4|       4|     Detached|349.3|    1|             0.0| (2,[0],[1.0])|[1.0,0.0,177220.0...|[-10468.261949813...|           [0.0,1.0]|       1.0|\n",
            "+--------+----------+----------+----------+-------------+--------+-------------+-----+-----+----------------+--------------+--------------------+--------------------+--------------------+----------+\n",
            "only showing top 20 rows\n",
            "\n"
          ]
        }
      ]
    },
    {
      "cell_type": "code",
      "source": [
        "# Evaluarea modelului\n",
        "eval = BinaryClassificationEvaluator(rawPredictionCol='prediction', labelCol='cheap')\n",
        "lr_results.select('cheap','prediction').show()\n",
        "\n",
        "AUC = eval.evaluate(lr_results)\n",
        "\n",
        "print('AUC:',AUC)"
      ],
      "metadata": {
        "colab": {
          "base_uri": "https://localhost:8080/"
        },
        "id": "pRava7GvQzjp",
        "outputId": "e7c8733b-6017-4ca2-f369-72a46b728048"
      },
      "execution_count": 20,
      "outputs": [
        {
          "output_type": "stream",
          "name": "stdout",
          "text": [
            "+-----+----------+\n",
            "|cheap|prediction|\n",
            "+-----+----------+\n",
            "|    1|       1.0|\n",
            "|    1|       1.0|\n",
            "|    0|       0.0|\n",
            "|    1|       1.0|\n",
            "|    0|       0.0|\n",
            "|    0|       0.0|\n",
            "|    1|       1.0|\n",
            "|    1|       1.0|\n",
            "|    0|       0.0|\n",
            "|    0|       0.0|\n",
            "|    1|       1.0|\n",
            "|    0|       0.0|\n",
            "|    1|       1.0|\n",
            "|    1|       1.0|\n",
            "|    1|       1.0|\n",
            "|    0|       0.0|\n",
            "|    1|       1.0|\n",
            "|    0|       0.0|\n",
            "|    1|       1.0|\n",
            "|    1|       1.0|\n",
            "+-----+----------+\n",
            "only showing top 20 rows\n",
            "\n",
            "AUC: 0.9980916030534351\n"
          ]
        }
      ]
    },
    {
      "cell_type": "code",
      "source": [
        "# s-a aplicat modelul obtinut anterior pe datele initiale, neetichetate\n",
        "lr_predictions=fit_lr_model.transform(original_df)\n",
        "lr_predictions.select('cheap','prediction').show()"
      ],
      "metadata": {
        "colab": {
          "base_uri": "https://localhost:8080/"
        },
        "id": "sic6tOMPxNfM",
        "outputId": "087b9760-cb6c-426b-fba3-89f8013033f2"
      },
      "execution_count": 24,
      "outputs": [
        {
          "output_type": "stream",
          "name": "stdout",
          "text": [
            "+-----+----------+\n",
            "|cheap|prediction|\n",
            "+-----+----------+\n",
            "|    1|       1.0|\n",
            "|    0|       0.0|\n",
            "|    1|       1.0|\n",
            "|    0|       0.0|\n",
            "|    0|       0.0|\n",
            "|    1|       1.0|\n",
            "|    0|       0.0|\n",
            "|    0|       0.0|\n",
            "|    0|       0.0|\n",
            "|    1|       1.0|\n",
            "|    0|       0.0|\n",
            "|    1|       1.0|\n",
            "|    0|       0.0|\n",
            "|    1|       1.0|\n",
            "|    1|       1.0|\n",
            "|    0|       0.0|\n",
            "|    0|       0.0|\n",
            "|    0|       0.0|\n",
            "|    0|       0.0|\n",
            "|    1|       1.0|\n",
            "+-----+----------+\n",
            "only showing top 20 rows\n",
            "\n"
          ]
        }
      ]
    }
  ]
}